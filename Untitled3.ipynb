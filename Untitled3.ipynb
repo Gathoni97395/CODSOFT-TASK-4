{
 "cells": [
  {
   "cell_type": "markdown",
   "id": "6c530a09-99dc-45c5-96ed-a32a4f90a965",
   "metadata": {},
   "source": [
    "## SALES FORECASTING USING MACHINE LEARNING MODELS \n"
   ]
  },
  {
   "cell_type": "code",
   "execution_count": 3,
   "id": "c57ef05b-47fe-4aa7-a2d3-b1bfd54c5bf1",
   "metadata": {},
   "outputs": [],
   "source": [
    "import pandas as pd"
   ]
  },
  {
   "cell_type": "code",
   "execution_count": 4,
   "id": "a12a4c0a-4ea6-4377-a375-dbf3df2a7924",
   "metadata": {},
   "outputs": [],
   "source": [
    "import matplotlib.pyplot as plt"
   ]
  },
  {
   "cell_type": "code",
   "execution_count": 6,
   "id": "c23703a6-9868-4c11-b562-e9c3ed04e232",
   "metadata": {},
   "outputs": [],
   "source": [
    "import seaborn as sns"
   ]
  },
  {
   "cell_type": "code",
   "execution_count": 7,
   "id": "b2eecca2-e552-480b-af07-72cd83d7281c",
   "metadata": {},
   "outputs": [],
   "source": [
    "import matplotlib.colors as col"
   ]
  },
  {
   "cell_type": "code",
   "execution_count": 10,
   "id": "13fd496d-5aeb-4781-b399-f4b690d09f52",
   "metadata": {},
   "outputs": [],
   "source": [
    "# importing machine leraning libraries\n",
    "from sklearn.linear_model import LinearRegression\n",
    "from sklearn.ensemble import RandomForestRegressor\n",
    "# time series model\n",
    "import statsmodels.tsa.api as smt\n",
    "import statsmodels.api as sm\n",
    "#model's accuracy\n",
    "from sklearn.metrics import mean_squared_error, mean_absolute_error, r2_score\n",
    "from sklearn.model_selection import KFold, cross_val_score, train_test_split\n",
    "from statsmodels.tools.eval_measures import rmse\n",
    "\n",
    "\n"
   ]
  },
  {
   "cell_type": "code",
   "execution_count": 11,
   "id": "0ec50f0a-bc81-4b86-81ee-31de458bd59d",
   "metadata": {},
   "outputs": [],
   "source": [
    "#loading the dataset\n"
   ]
  },
  {
   "cell_type": "markdown",
   "id": "6733b317-8304-4dc5-9ef9-6d3e538b06ed",
   "metadata": {},
   "source": [
    "# loading the dataset"
   ]
  },
  {
   "cell_type": "code",
   "execution_count": 13,
   "id": "5e6ed93d-13b1-4e96-806d-f8293a1f3b9e",
   "metadata": {},
   "outputs": [],
   "source": [
    "dl= pd.read_csv(r\"C:\\Users\\USER\\Desktop\\data science\\advertising.csv\")"
   ]
  },
  {
   "cell_type": "markdown",
   "id": "3bfcff17-4744-4317-8350-403668ba626c",
   "metadata": {},
   "source": [
    "### exploratory data analysis"
   ]
  },
  {
   "cell_type": "code",
   "execution_count": 14,
   "id": "52c33752-2804-4e84-b6ef-b8cd03743da0",
   "metadata": {},
   "outputs": [
    {
     "name": "stdout",
     "output_type": "stream",
     "text": [
      "      TV  Radio  Newspaper  Sales\n",
      "0  230.1   37.8       69.2   22.1\n",
      "1   44.5   39.3       45.1   10.4\n",
      "2   17.2   45.9       69.3   12.0\n",
      "3  151.5   41.3       58.5   16.5\n",
      "4  180.8   10.8       58.4   17.9\n"
     ]
    }
   ],
   "source": [
    "print(dl.head())"
   ]
  },
  {
   "cell_type": "code",
   "execution_count": 15,
   "id": "c84c4785-a65d-41f4-9aea-2995faf5c012",
   "metadata": {},
   "outputs": [
    {
     "name": "stdout",
     "output_type": "stream",
     "text": [
      "               TV       Radio   Newspaper       Sales\n",
      "count  200.000000  200.000000  200.000000  200.000000\n",
      "mean   147.042500   23.264000   30.554000   15.130500\n",
      "std     85.854236   14.846809   21.778621    5.283892\n",
      "min      0.700000    0.000000    0.300000    1.600000\n",
      "25%     74.375000    9.975000   12.750000   11.000000\n",
      "50%    149.750000   22.900000   25.750000   16.000000\n",
      "75%    218.825000   36.525000   45.100000   19.050000\n",
      "max    296.400000   49.600000  114.000000   27.000000\n"
     ]
    }
   ],
   "source": [
    "print(dl.describe())"
   ]
  },
  {
   "cell_type": "code",
   "execution_count": 20,
   "id": "e3fad0e6-1dc2-46c4-978b-69506b419f54",
   "metadata": {},
   "outputs": [
    {
     "name": "stdout",
     "output_type": "stream",
     "text": [
      "TV           float64\n",
      "Radio        float64\n",
      "Newspaper    float64\n",
      "Sales        float64\n",
      "dtype: object\n"
     ]
    }
   ],
   "source": [
    "print (dl.dtypes)"
   ]
  },
  {
   "cell_type": "code",
   "execution_count": 21,
   "id": "554f770d-5d48-4572-acdb-0558950ccf75",
   "metadata": {},
   "outputs": [
    {
     "name": "stdout",
     "output_type": "stream",
     "text": [
      "<bound method DataFrame.info of         TV  Radio  Newspaper  Sales\n",
      "0    230.1   37.8       69.2   22.1\n",
      "1     44.5   39.3       45.1   10.4\n",
      "2     17.2   45.9       69.3   12.0\n",
      "3    151.5   41.3       58.5   16.5\n",
      "4    180.8   10.8       58.4   17.9\n",
      "..     ...    ...        ...    ...\n",
      "195   38.2    3.7       13.8    7.6\n",
      "196   94.2    4.9        8.1   14.0\n",
      "197  177.0    9.3        6.4   14.8\n",
      "198  283.6   42.0       66.2   25.5\n",
      "199  232.1    8.6        8.7   18.4\n",
      "\n",
      "[200 rows x 4 columns]>\n"
     ]
    }
   ],
   "source": [
    "print(dl.info)"
   ]
  },
  {
   "cell_type": "markdown",
   "id": "b8038339-b3da-4d6e-83ad-aac6e757a167",
   "metadata": {},
   "source": [
    "#### Data validation"
   ]
  },
  {
   "cell_type": "code",
   "execution_count": 25,
   "id": "f4c052fa-0e66-4cb2-90b1-1cd355cb7b1a",
   "metadata": {},
   "outputs": [],
   "source": [
    "# checking and handling missing values\n",
    "# checking for outliers\n",
    "# feature engineering"
   ]
  },
  {
   "cell_type": "code",
   "execution_count": 26,
   "id": "258e29cd-334f-498a-a377-cd5cde09af1e",
   "metadata": {},
   "outputs": [],
   "source": [
    "dl_missing_data=dl.isnull().sum()"
   ]
  },
  {
   "cell_type": "code",
   "execution_count": 27,
   "id": "376af002-2467-4220-8923-22fd5c9dc6f7",
   "metadata": {},
   "outputs": [
    {
     "name": "stdout",
     "output_type": "stream",
     "text": [
      "TV           0\n",
      "Radio        0\n",
      "Newspaper    0\n",
      "Sales        0\n",
      "dtype: int64\n"
     ]
    }
   ],
   "source": [
    "print(dl_missing_data)"
   ]
  },
  {
   "cell_type": "code",
   "execution_count": 28,
   "id": "34107a6a-8053-4f12-ae95-481066d15b29",
   "metadata": {},
   "outputs": [
    {
     "name": "stdout",
     "output_type": "stream",
     "text": [
      "Index(['TV', 'Radio', 'Newspaper', 'Sales'], dtype='object')\n"
     ]
    }
   ],
   "source": [
    "# checking for outliers\n",
    "print(dl.columns)\n"
   ]
  },
  {
   "cell_type": "code",
   "execution_count": 29,
   "id": "0fbec01d-3cb3-456d-90b9-983d2efc1f16",
   "metadata": {},
   "outputs": [
    {
     "data": {
      "image/png": "[encoded data removed]",
      "text/plain": [
       "<Figure size 640x480 with 1 Axes>"
      ]
     },
     "metadata": {},
     "output_type": "display_data"
    },
    {
     "data": {
      "image/png": "[encoded data removed]",
      "text/plain": [
       "<Figure size 640x480 with 1 Axes>"
      ]
     },
     "metadata": {},
     "output_type": "display_data"
    },
    {
     "data": {
      "image/png": "[encoded data removed]",
      "text/plain": [
       "<Figure size 640x480 with 1 Axes>"
      ]
     },
     "metadata": {},
     "output_type": "display_data"
    }
   ],
   "source": [
    "sns.boxplot(x=dl['Radio'])\n",
    "plt.show()\n",
    "sns.boxplot(x=dl['Newspaper'])\n",
    "plt.show()\n",
    "sns.boxplot(x=dl['TV'])\n",
    "plt.show()"
   ]
  },
  {
   "cell_type": "code",
   "execution_count": 34,
   "id": "e5d8b895-eb3f-4554-80b6-1a966d1db430",
   "metadata": {},
   "outputs": [
    {
     "name": "stdout",
     "output_type": "stream",
     "text": [
      "Outliers detected:         TV  Radio  Newspaper  Sales\n",
      "5      8.7   48.9       75.0    7.2\n",
      "16    67.8   36.6      114.0   12.5\n",
      "33   265.6   20.0        0.3   17.4\n",
      "65    69.0    9.3        0.9   11.3\n",
      "75    16.9   43.7       89.4    8.7\n",
      "101  296.4   36.3      100.9   23.8\n",
      "118  125.7   36.9       79.2   15.9\n",
      "124  229.5   32.3       74.2   19.7\n",
      "141  193.7   35.4       75.6   19.2\n",
      "165  234.5    3.4       84.8   16.9\n"
     ]
    }
   ],
   "source": [
    "#column 'Newspaper' has outliers\n",
    "#using LOF to see deviation form neighbouring data points\n",
    "\n",
    "from sklearn.neighbors import LocalOutlierFactor\n",
    "lof = LocalOutlierFactor(n_neighbors=20, contamination=0.05)\n",
    "outlier = lof.fit_predict(dl[['Newspaper']])\n",
    "outlier_point = dl[outlier== -1]\n",
    "print(\"Outliers detected:\", outlier_point)\n"
   ]
  },
  {
   "cell_type": "code",
   "execution_count": 41,
   "id": "01c406f3-2772-46f0-9090-07d6fecaa703",
   "metadata": {},
   "outputs": [
    {
     "name": "stdout",
     "output_type": "stream",
     "text": [
      "count    200.000000\n",
      "mean       3.153164\n",
      "std        0.866508\n",
      "min        0.262364\n",
      "25%        2.621019\n",
      "50%        3.286519\n",
      "75%        3.830813\n",
      "max        4.744932\n",
      "Name: Newspaper, dtype: float64\n"
     ]
    }
   ],
   "source": [
    "# handling outliers\n",
    "Q1 = dl['Newspaper'].quantile(0.25)\n",
    "Q3 = dl['Newspaper'].quantile(0.75)\n",
    "\n",
    "# Calculating the Interquartile Range (IQR)\n",
    "IQR = Q3 - Q1\n",
    "\n",
    "# Calculating the lower bound for outliers\n",
    "lower_bound = Q1 - 1.5 * IQR\n",
    "\n",
    "# Define a custom threshold (2 points below the lower bound)\n",
    "custom_lower_threshold = lower_bound - 2  # Adjust this if needed\n",
    "\n",
    "# Handle outliers that are more than 2 points below the lower bound\n",
    "dl['Newspaper'] = np.where(dl['Newspaper'] < custom_lower_threshold, lower_bound, dl['Newspaper'])\n",
    "\n",
    "# Check the updated data\n",
    "print(dl['Newspaper'].describe())"
   ]
  },
  {
   "cell_type": "code",
   "execution_count": 56,
   "id": "d10bf2c0-2eb5-4184-83d4-bbdb697434a3",
   "metadata": {},
   "outputs": [
    {
     "data": {
      "text/plain": [
       "<Axes: >"
      ]
     },
     "execution_count": 56,
     "metadata": {},
     "output_type": "execute_result"
    },
    {
     "data": {
      "image/png": "[encoded data removed]",
      "text/plain": [
       "<Figure size 640x480 with 2 Axes>"
      ]
     },
     "metadata": {},
     "output_type": "display_data"
    }
   ],
   "source": [
    "# plotting correlation  maps to see relationships between variables in the data\n",
    "from matplotlib.colors import LinearSegmentedColormap\n",
    "custom_cmap = LinearSegmentedColormap.from_list(\"#0047AB\", [\"#B0C4DE\", \"#CD5C5C\"])\n",
    "\n",
    "# Plot the heatmap\n",
    "sns.heatmap(corr, annot=True, fmt=\".2f\", cmap=custom_cmap)\n",
    "\n"
   ]
  },
  {
   "cell_type": "markdown",
   "id": "beffb101-4768-4963-9e76-a7c61f0afd6c",
   "metadata": {},
   "source": [
    "#### advertising for tv  seems to have the highest effect on sales"
   ]
  },
  {
   "cell_type": "code",
   "execution_count": 57,
   "id": "ffd4dd8f-030e-453d-8e1c-2ddd2e9d1366",
   "metadata": {},
   "outputs": [],
   "source": [
    "#splitting the data into testing and training data"
   ]
  },
  {
   "cell_type": "code",
   "execution_count": 59,
   "id": "c1c20b05-2cd5-4f7a-8f95-cdfe7c7ac428",
   "metadata": {},
   "outputs": [
    {
     "name": "stdout",
     "output_type": "stream",
     "text": [
      "(160, 3)\n",
      "(160,)\n"
     ]
    }
   ],
   "source": [
    "features=[\"TV\", \"Newspaper\", \"Radio\"]\n",
    "X=dl[features]\n",
    "Y=dl[\"Sales\"]\n",
    "X_train, X_test, Y_train, Y_test = train_test_split(X, Y, test_size=0.2, random_state=11)\n",
    "print (X_train.shape)\n",
    "print(Y_train.shape)"
   ]
  },
  {
   "cell_type": "code",
   "execution_count": 60,
   "id": "2f8d7d97-9455-47e3-aa58-b39f481b1fe2",
   "metadata": {},
   "outputs": [
    {
     "name": "stdout",
     "output_type": "stream",
     "text": [
      "[16.9815 20.055  16.7445 11.897   6.242  21.141  10.7365  5.987  12.633\n",
      " 12.485  23.561  12.5915  4.862  17.024  18.4545 13.512  13.0195  8.518\n",
      " 22.484  21.9285  8.0945 11.4715 11.923  12.5815 25.62   19.526  13.99\n",
      "  6.4605 25.222  17.011  10.911  11.021  17.426  13.936  21.8485 25.572\n",
      " 13.994  12.177  21.4645 13.388 ]\n"
     ]
    }
   ],
   "source": [
    "# model selection\n",
    "model = RandomForestRegressor(n_estimators=200, random_state=11)\n",
    "model.fit(X_train, Y_train)\n",
    "Y_pred = model.predict(X_test)\n",
    "print(Y_pred)\n"
   ]
  },
  {
   "cell_type": "code",
   "execution_count": 67,
   "id": "4bc5f085-a5f5-4f1d-bacc-ff1fccecd061",
   "metadata": {},
   "outputs": [
    {
     "name": "stdout",
     "output_type": "stream",
     "text": [
      "Mean Squared Error: 1.438672781250002\n"
     ]
    }
   ],
   "source": [
    "mse=mean_squared_error(Y_test, Y_pred)\n",
    "print(f\"Mean Squared Error: {mse}\")"
   ]
  },
  {
   "cell_type": "code",
   "execution_count": 78,
   "id": "48895f03-2dda-4124-b672-640ca7b33c9b",
   "metadata": {},
   "outputs": [
    {
     "name": "stdout",
     "output_type": "stream",
     "text": [
      "R Squared:0.9563918876600794\n"
     ]
    }
   ],
   "source": [
    "r2=r2_score(Y_test,Y_pred)\n",
    "print(f\"R Squared:{r2}\")"
   ]
  },
  {
   "cell_type": "markdown",
   "id": "379cfd97-1724-44a6-a685-95a05233446a",
   "metadata": {},
   "source": [
    "#### Random forest model has an R Squared value of 0.95, indicating that the model explains 95% of the variance in the target variable Sales, which suggests that the model is very good at predicting the outcome."
   ]
  },
  {
   "cell_type": "code",
   "execution_count": 80,
   "id": "71ce774e-1ca0-434f-9ea9-3de173cebe6c",
   "metadata": {},
   "outputs": [],
   "source": [
    "#  multiple linear regression model\n",
    "Linear_Model=LinearRegression()\n",
    "Linear_Model.fit(X_train, Y_train)\n",
    "linear_pred =Linear_Model.predict(X_test)\n"
   ]
  },
  {
   "cell_type": "code",
   "execution_count": 81,
   "id": "b16c9083-e708-4b87-882f-0e425addc94a",
   "metadata": {},
   "outputs": [
    {
     "name": "stdout",
     "output_type": "stream",
     "text": [
      "Mean Squared Error: 3.603039500469829\n"
     ]
    }
   ],
   "source": [
    "# model accuracy\n",
    "mse=mean_squared_error(Y_test, linear_pred)\n",
    "print(f\"Mean Squared Error: {mse}\")"
   ]
  },
  {
   "cell_type": "code",
   "execution_count": 82,
   "id": "d03bce97-e14d-48f1-bdbb-b50b7f405c64",
   "metadata": {},
   "outputs": [
    {
     "name": "stdout",
     "output_type": "stream",
     "text": [
      "R Squared:0.8907870133157427\n"
     ]
    }
   ],
   "source": [
    "r2=r2_score(Y_test,linear_pred)\n",
    "print(f\"R Squared:{r2}\")"
   ]
  },
  {
   "cell_type": "markdown",
   "id": "29737d4e-7e71-44f4-a1fd-03723bae1549",
   "metadata": {},
   "source": [
    "#### linear model regression has an R squared of 0.89, indicating that the model explains 89% of the variance in target variable.Random forest seems to be a better model"
   ]
  },
  {
   "cell_type": "code",
   "execution_count": 83,
   "id": "56a04cdf-5b6f-4626-872c-6d5162f58658",
   "metadata": {},
   "outputs": [],
   "source": [
    "#time series arima model will be explored in another dataset"
   ]
  },
  {
   "cell_type": "markdown",
   "id": "f43262ab-10cf-4019-a2e2-be4f3421a3fd",
   "metadata": {},
   "source": [
    "### residual plots"
   ]
  },
  {
   "cell_type": "code",
   "execution_count": 86,
   "id": "b60db64f-3fe4-4b08-b614-85885c2aa780",
   "metadata": {},
   "outputs": [
    {
     "data": {
      "image/png": "[encoded data removed]",
      "text/plain": [
       "<Figure size 640x480 with 1 Axes>"
      ]
     },
     "metadata": {},
     "output_type": "display_data"
    }
   ],
   "source": [
    "residuals= Y_test-linear_pred\n",
    "sns.histplot(residuals, kde=True)\n",
    "plt.xlabel('Residuals')\n",
    "plt.show()"
   ]
  },
  {
   "cell_type": "code",
   "execution_count": null,
   "id": "3482d121-6c3b-4c5c-b88e-b50046ca90a6",
   "metadata": {},
   "outputs": [],
   "source": []
  }
 ],
 "metadata": {
  "kernelspec": {
   "display_name": "Python 3 (ipykernel)",
   "language": "python",
   "name": "python3"
  },
  "language_info": {
   "codemirror_mode": {
    "name": "ipython",
    "version": 3
   },
   "file_extension": ".py",
   "mimetype": "text/x-python",
   "name": "python",
   "nbconvert_exporter": "python",
   "pygments_lexer": "ipython3",
   "version": "3.12.7"
  }
 },
 "nbformat": 4,
 "nbformat_minor": 5
}
